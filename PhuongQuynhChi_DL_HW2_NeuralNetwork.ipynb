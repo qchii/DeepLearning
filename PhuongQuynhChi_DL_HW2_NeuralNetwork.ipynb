{
 "cells": [
  {
   "cell_type": "code",
   "execution_count": 90,
   "id": "3fcd092a",
   "metadata": {},
   "outputs": [],
   "source": [
    "import torch\n",
    "import torchvision\n",
    "import torchvision.transforms as transforms\n",
    "import matplotlib.pyplot as plt\n",
    "import numpy as np"
   ]
  },
  {
   "cell_type": "markdown",
   "id": "f4b32216",
   "metadata": {},
   "source": [
    "## EX1:\n",
    "Cho bài toán XOR\n",
    "Implement thuât toán neural network để giải bài toán dùng Pytorch"
   ]
  },
  {
   "cell_type": "code",
   "execution_count": 91,
   "id": "62ed5305",
   "metadata": {},
   "outputs": [],
   "source": [
    "# Hàm kích hoạt sigmoid\n",
    "def sigmoid(x):\n",
    "    return 1 / (1 + torch.exp(-x))\n",
    "\n",
    "# Hàm huấn luyện mô hình\n",
    "def train_model(X, y, W1, b1, W2, b2, learning_rate, num_epochs):\n",
    "    for epoch in range(num_epochs):\n",
    "        # Forward pass\n",
    "        z1 = torch.matmul(X, W1) + b1\n",
    "        a1 = sigmoid(z1)\n",
    "        z2 = torch.matmul(a1, W2) + b2\n",
    "        output = sigmoid(z2)\n",
    "\n",
    "        # Tính loss\n",
    "        loss = ((output - y) ** 2).mean()\n",
    "\n",
    "        # Backpropagation\n",
    "        loss.backward()\n",
    "\n",
    "        # Cập nhật trọng số\n",
    "        with torch.no_grad():\n",
    "            W2 -= learning_rate * W2.grad\n",
    "            b2 -= learning_rate * b2.grad\n",
    "            W1 -= learning_rate * W1.grad\n",
    "            b1 -= learning_rate * b1.grad\n",
    "\n",
    "            # Đặt gradient về 0\n",
    "            W2.grad.zero_()\n",
    "            b2.grad.zero_()\n",
    "            W1.grad.zero_()\n",
    "            b1.grad.zero_()\n",
    "\n",
    "        #if (epoch + 1) % 1000 == 0:\n",
    "        #    print(f'Epoch [{epoch+1}/{num_epochs}], Loss: {loss.item()}')\n",
    "\n",
    "\n",
    "# Hàm kiểm tra mô hình\n",
    "def test_model(X, W1, b1, W2, b2):\n",
    "    with torch.no_grad():\n",
    "        z1 = torch.matmul(X, W1) + b1\n",
    "        a1 = sigmoid(z1)\n",
    "        z2 = torch.matmul(a1, W2) + b2\n",
    "        output = sigmoid(z2)\n",
    "        rounded_output = torch.round(output)\n",
    "\n",
    "       # print(\"Dự đoán kết quả:\")\n",
    "        for i in range(len(X)):\n",
    "            print(f\"Input: {X[i].tolist()}, Output: {rounded_output[i].item()}\")\n"
   ]
  },
  {
   "cell_type": "code",
   "execution_count": 92,
   "id": "89e0ac7b",
   "metadata": {},
   "outputs": [],
   "source": [
    "# Dữ liệu đầu vào (XOR)\n",
    "X = torch.tensor([[0, 0], [0, 1], [1, 0], [1, 1]], dtype=torch.float32)\n",
    "y = torch.tensor([[0], [1], [1], [0]], dtype=torch.float32)"
   ]
  },
  {
   "cell_type": "code",
   "execution_count": 93,
   "id": "08296f5e",
   "metadata": {},
   "outputs": [
    {
     "name": "stdout",
     "output_type": "stream",
     "text": [
      "Input: [0.0, 0.0], Output: 0.0\n",
      "Input: [0.0, 1.0], Output: 1.0\n",
      "Input: [1.0, 0.0], Output: 1.0\n",
      "Input: [1.0, 1.0], Output: 0.0\n"
     ]
    }
   ],
   "source": [
    "# Gọi hàm train_model và test_model\n",
    "input_size = 2\n",
    "hidden_size = 2\n",
    "output_size = 1\n",
    "learning_rate = 0.1\n",
    "num_epochs = 10000\n",
    "\n",
    "# Khởi tạo trọng số cho các lớp\n",
    "W1 = torch.randn(input_size, hidden_size, requires_grad=True)\n",
    "b1 = torch.randn(1, hidden_size, requires_grad=True)\n",
    "W2 = torch.randn(hidden_size, output_size, requires_grad=True)\n",
    "b2 = torch.randn(1, output_size, requires_grad=True)\n",
    "\n",
    "# Huấn luyện mô hình\n",
    "train_model(X, y, W1, b1, W2, b2, learning_rate, num_epochs)\n",
    "\n",
    "# Kiểm tra mô hình\n",
    "test_model(X, W1, b1, W2, b2)"
   ]
  },
  {
   "cell_type": "markdown",
   "id": "d06be8bc",
   "metadata": {},
   "source": [
    "## EX2\n",
    "Cho dataset MNIST\n",
    "- Implement thuật toán neural network với dữ liệu trên sử dụng Pytorch\n",
    "- Chỉnh learning rate, vẽ đồ thị loss tương ứng.\n",
    "- Chia tập train/test tỉ lệ 80/20, tính accuracy, F1, precision trên tập test.\n"
   ]
  },
  {
   "cell_type": "markdown",
   "id": "823ce07f",
   "metadata": {},
   "source": [
    "### 1. Implement"
   ]
  },
  {
   "cell_type": "code",
   "execution_count": 132,
   "id": "0c1c81ea",
   "metadata": {},
   "outputs": [],
   "source": [
    "def sigmoid(x):\n",
    "    return 1 / (1 + torch.exp(-x))\n",
    "# Đạo hàm của sigmoid\n",
    "def sigmoid_derivative(x):\n",
    "    return x * (1 - x)\n",
    "\n",
    "# Hàm softmax để tính xác suất của các lớp\n",
    "def softmax(x):\n",
    "    exp_x = torch.exp(x - torch.max(x))  # Tránh tràn số\n",
    "    return exp_x / exp_x.sum(dim=0, keepdim=True)\n",
    "\n",
    "# Khởi tạo trọng số ngẫu nhiên\n",
    "def initialize_weights(input_size, hidden_size, output_size):\n",
    "    W1 = torch.randn(input_size, hidden_size)\n",
    "    b1 = torch.zeros(1, hidden_size)\n",
    "    W2 = torch.randn(hidden_size, output_size)\n",
    "    b2 = torch.zeros(1, output_size)\n",
    "    return W1, b1, W2, b2\n",
    "\n",
    "# Hàm feedforward\n",
    "def feedforward(X, W1, b1, W2, b2):\n",
    "    z1 = torch.matmul(X, W1) + b1\n",
    "    a1 = sigmoid(z1)\n",
    "    z2 = torch.matmul(a1, W2) + b2\n",
    "    return z2, a1\n",
    "\n",
    "# Hàm huấn luyện mô hình\n",
    "def neural_network_model(X, y, input_size, hidden_size, output_size, learning_rate, num_epochs):\n",
    "    W1, b1, W2, b2 = initialize_weights(input_size, hidden_size, output_size)\n",
    "    losses = []\n",
    "    \n",
    "    for epoch in range(num_epochs):\n",
    "        # Forward pass\n",
    "        z2, a1 = feedforward(X, W1, b1, W2, b2)\n",
    "        probs = softmax(z2)\n",
    "        \n",
    "        # Tính loss\n",
    "        loss = -torch.log(probs[range(len(X)), y]).mean()\n",
    "        losses.append(loss.item())\n",
    "        \n",
    "        # Backpropagation\n",
    "        delta3 = probs\n",
    "        delta3[range(len(X)), y] -= 1\n",
    "        grad_W2 = torch.matmul(a1.t(), delta3)\n",
    "        grad_b2 = delta3.sum(dim=0, keepdim=True)\n",
    "        delta2 = torch.matmul(delta3, W2.t()) * sigmoid_derivative(a1)\n",
    "        grad_W1 = torch.matmul(X.t(), delta2)\n",
    "        grad_b1 = delta2.sum(dim=0, keepdim=True)\n",
    "        \n",
    "        # Cập nhật trọng số\n",
    "        W2 -= learning_rate * grad_W2\n",
    "        b2 -= learning_rate * grad_b2\n",
    "        W1 -= learning_rate * grad_W1\n",
    "        b1 -= learning_rate * grad_b1\n",
    "\n",
    "        #if (epoch + 1) % 10 == 0:\n",
    "        #    print(f'Epoch [{epoch+1}/{num_epochs}], Loss: {loss.item()}')\n",
    "\n",
    "    plt.plot(losses)\n",
    "    plt.xlabel('Epoch')\n",
    "    plt.ylabel('Loss')\n",
    "    plt.title('Loss vs. Epoch')\n",
    "    plt.show()\n",
    "    return W1, b1, W2, b2\n",
    "\n",
    " #Hàm kiểm tra mô hình\n",
    "def test_model(X, y, W1, b1, W2, b2):\n",
    "    z2, _ = feedforward(X, W1, b1, W2, b2)\n",
    "    probs = softmax(z2)\n",
    "    y_pred = torch.argmax(probs, dim=1)\n",
    "    accuracy = (y_pred == y).float().mean()\n",
    "    #print(f'Accuracy: {accuracy.item() * 100}%')\n",
    "    return y_pred, accuracy\n",
    "\n"
   ]
  },
  {
   "cell_type": "code",
   "execution_count": 106,
   "id": "ffc4519d",
   "metadata": {},
   "outputs": [],
   "source": [
    "transform = transforms.Compose([transforms.ToTensor(), transforms.Normalize((0.5,), (0.5,))])\n",
    "trainset = torchvision.datasets.MNIST(root='./data', train=True, download=True, transform=transform)\n",
    "trainloader = torch.utils.data.DataLoader(trainset, batch_size=4, shuffle=True, num_workers=2)\n",
    "testset = torchvision.datasets.MNIST(root='./data', train=False, download=True, transform=transform)\n",
    "testloader = torch.utils.data.DataLoader(testset, batch_size=4, shuffle=False, num_workers=2)"
   ]
  },
  {
   "cell_type": "code",
   "execution_count": 96,
   "id": "168577c1",
   "metadata": {
    "scrolled": true
   },
   "outputs": [],
   "source": [
    "#examples = enumerate(testloader)\n",
    "#batch_idx, (example_data, example_targets) = next(examples)\n",
    "#fig = plt.figure()\n",
    "#for i in range(6):\n",
    "#    plt.subplot(2,3,i+1)\n",
    " #   plt.tight_layout()\n",
    " #  plt.imshow(example_data[i][0], cmap='gray', interpolation='none')\n",
    " #   plt.title(\"Ground Truth: {}\".format(example_targets[i]))\n",
    " #   plt.xticks([])\n",
    " #   plt.yticks([])\n",
    "#fig"
   ]
  },
  {
   "cell_type": "code",
   "execution_count": 107,
   "id": "f2b9ef82",
   "metadata": {},
   "outputs": [],
   "source": [
    "X_train = []\n",
    "y_train = []\n",
    "for images, labels in trainloader:\n",
    "    X_train.append(images.view(-1, 28 * 28))\n",
    "    y_train.append(labels)\n",
    "X_train = torch.cat(X_train)\n",
    "y_train = torch.cat(y_train)\n",
    "\n",
    "X_test = []\n",
    "y_test = []\n",
    "for images, labels in testloader:\n",
    "    X_test.append(images.view(-1, 28 * 28))\n",
    "    y_test.append(labels)\n",
    "X_test = torch.cat(X_test)\n",
    "y_test = torch.cat(y_test)"
   ]
  },
  {
   "cell_type": "code",
   "execution_count": 98,
   "id": "e59cb626",
   "metadata": {
    "scrolled": true
   },
   "outputs": [
    {
     "name": "stdout",
     "output_type": "stream",
     "text": [
      "Kích thước của X_train: torch.Size([60000, 784])\n",
      "Kích thước của y_train: torch.Size([60000])\n",
      "Kích thước của X_test: torch.Size([10000, 784])\n",
      "Kích thước của y_test: torch.Size([10000])\n"
     ]
    }
   ],
   "source": [
    "print(\"Kích thước của X_train:\", X_train.shape)\n",
    "print(\"Kích thước của y_train:\", y_train.shape)\n",
    "print(\"Kích thước của X_test:\", X_test.shape)\n",
    "print(\"Kích thước của y_test:\", y_test.shape)"
   ]
  },
  {
   "cell_type": "markdown",
   "id": "52e1b2eb",
   "metadata": {},
   "source": [
    "### 2. Change learning rate"
   ]
  },
  {
   "cell_type": "markdown",
   "id": "a223fa82",
   "metadata": {},
   "source": [
    "#### Small lr"
   ]
  },
  {
   "cell_type": "code",
   "execution_count": 99,
   "id": "f727924f",
   "metadata": {
    "scrolled": false
   },
   "outputs": [
    {
     "data": {
      "image/png": "[encoded data removed]",
      "text/plain": [
       "<Figure size 432x288 with 1 Axes>"
      ]
     },
     "metadata": {
      "needs_background": "light"
     },
     "output_type": "display_data"
    }
   ],
   "source": [
    "input_size = 28 * 28\n",
    "hidden_size = 128\n",
    "output_size = 10\n",
    "learning_rate =1e-8\n",
    "num_epochs = 100\n",
    "\n",
    "# Huấn luyện mô hình\n",
    "trained_weights = neural_network_model(X_train, y_train, input_size, hidden_size, output_size, learning_rate, num_epochs)\n",
    "\n",
    "# Kiểm tra mô hình\n",
    "#test_model(X_test, y_test, *trained_weights)\n"
   ]
  },
  {
   "cell_type": "markdown",
   "id": "1212711a",
   "metadata": {},
   "source": [
    "#### Moderate lr"
   ]
  },
  {
   "cell_type": "code",
   "execution_count": 133,
   "id": "a8ba2d23",
   "metadata": {},
   "outputs": [
    {
     "data": {
      "image/png": "[encoded data removed]",
      "text/plain": [
       "<Figure size 432x288 with 1 Axes>"
      ]
     },
     "metadata": {
      "needs_background": "light"
     },
     "output_type": "display_data"
    }
   ],
   "source": [
    "input_size = 28 * 28\n",
    "hidden_size = 128\n",
    "output_size = 10\n",
    "learning_rate = 10e-7\n",
    "num_epochs = 500\n",
    "\n",
    "# Huấn luyện mô hình\n",
    "trained_weights = neural_network_model(X_train, y_train, input_size, hidden_size, output_size, learning_rate, num_epochs)"
   ]
  },
  {
   "cell_type": "markdown",
   "id": "0b8d86f7",
   "metadata": {},
   "source": [
    "#### Large lr"
   ]
  },
  {
   "cell_type": "code",
   "execution_count": 124,
   "id": "fc26e2e5",
   "metadata": {},
   "outputs": [
    {
     "name": "stdout",
     "output_type": "stream",
     "text": [
      "Epoch [10/200], Loss: nan\n",
      "Epoch [20/200], Loss: nan\n",
      "Epoch [30/200], Loss: nan\n",
      "Epoch [40/200], Loss: nan\n",
      "Epoch [50/200], Loss: nan\n",
      "Epoch [60/200], Loss: nan\n",
      "Epoch [70/200], Loss: nan\n",
      "Epoch [80/200], Loss: nan\n",
      "Epoch [90/200], Loss: nan\n",
      "Epoch [100/200], Loss: nan\n",
      "Epoch [110/200], Loss: nan\n",
      "Epoch [120/200], Loss: nan\n",
      "Epoch [130/200], Loss: nan\n",
      "Epoch [140/200], Loss: nan\n",
      "Epoch [150/200], Loss: nan\n",
      "Epoch [160/200], Loss: nan\n",
      "Epoch [170/200], Loss: nan\n",
      "Epoch [180/200], Loss: nan\n",
      "Epoch [190/200], Loss: nan\n",
      "Epoch [200/200], Loss: nan\n"
     ]
    },
    {
     "data": {
      "image/png": "[encoded data removed]",
      "text/plain": [
       "<Figure size 432x288 with 1 Axes>"
      ]
     },
     "metadata": {
      "needs_background": "light"
     },
     "output_type": "display_data"
    }
   ],
   "source": [
    "input_size = 28 * 28\n",
    "hidden_size = 128\n",
    "output_size = 10\n",
    "learning_rate = 0.05\n",
    "num_epochs = 200\n",
    "\n",
    "# Huấn luyện mô hình\n",
    "trained_weights = neural_network_model(X_train, y_train, input_size, hidden_size, output_size, learning_rate, num_epochs)"
   ]
  },
  {
   "cell_type": "markdown",
   "id": "f1243359",
   "metadata": {},
   "source": [
    "### 3. Calculate metrics"
   ]
  },
  {
   "cell_type": "code",
   "execution_count": 109,
   "id": "0c155f49",
   "metadata": {},
   "outputs": [],
   "source": [
    "X_combined = torch.cat([X_train, X_test], dim=0)\n",
    "y_combined = torch.cat([y_train, y_test], dim=0)\n",
    "total_samples = X_combined.shape[0]\n",
    "# Calculate the number of samples for the training set (80%)\n",
    "train_samples = int(0.8 * total_samples)\n",
    "\n",
    "# Split X_combined into X_train and X_test\n",
    "X_train1 = X_combined[:train_samples]\n",
    "X_test1 = X_combined[train_samples:]\n",
    "\n",
    "\n",
    "total_samples = y_combined.shape[0]\n",
    "train_samples = int(0.8 * total_samples)\n",
    "\n",
    "y_train1 = y_combined[:train_samples]\n",
    "y_test1 = y_combined[train_samples:]"
   ]
  },
  {
   "cell_type": "code",
   "execution_count": 134,
   "id": "9392e396",
   "metadata": {},
   "outputs": [
    {
     "data": {
      "image/png": "[encoded data removed]",
      "text/plain": [
       "<Figure size 432x288 with 1 Axes>"
      ]
     },
     "metadata": {
      "needs_background": "light"
     },
     "output_type": "display_data"
    }
   ],
   "source": [
    "learning_rate = 10e-7\n",
    "trained_weights = neural_network_model(X_train1, y_train1, input_size, hidden_size, output_size, learning_rate, num_epochs)\n",
    "y_pred, accuracy =test_model(X_test1, y_test1, *trained_weights)"
   ]
  },
  {
   "cell_type": "code",
   "execution_count": 135,
   "id": "99f72798",
   "metadata": {},
   "outputs": [
    {
     "name": "stdout",
     "output_type": "stream",
     "text": [
      "Accuracy: 38.9857143163681%\n",
      "Precision: 39.66502923380026%\n",
      "Recall: 38.98571428571429%\n",
      "F1-score: 39.09230561020682%\n"
     ]
    }
   ],
   "source": [
    "from sklearn.metrics import precision_recall_fscore_support\n",
    "precision, recall, f1, _ = precision_recall_fscore_support(y_test1.numpy(), y_pred.numpy(), average='weighted')\n",
    "    \n",
    "print(f'Accuracy: {accuracy.item() *100}%')\n",
    "print(f'Precision: {precision * 100}%')\n",
    "print(f'Recall: {recall * 100}%')\n",
    "print(f'F1-score: {f1 * 100}%')"
   ]
  },
  {
   "cell_type": "markdown",
   "id": "0b291d43",
   "metadata": {},
   "source": [
    "## EX3\n",
    "Tại sao hàm softmax lại dùng exponential function (e) mà không phải số khác như 2, 3 hoặc 4"
   ]
  },
  {
   "cell_type": "markdown",
   "id": "8b7d877d",
   "metadata": {},
   "source": [
    "Softmax uses the exponential function (e) rather than other numbers like 2, 3, or 4 for several reasons:\n",
    "\n",
    "- Probability Interpretation: Softmax is used to represent probabilities for multiple classes. The natural exponential (e) allows us to represent probabilities as non-negative values between 0 and 1. Using other numbers like 2, 3, or 4 may not provide the same probability interpretation.\n",
    "\n",
    "- Stability: The natural exponential (e) helps maintain numerical stability during calculations. When using e, it's common to subtract the maximum value from the input values before applying the softmax function to avoid numerical overflow and underflow issues. This ensures that softmax calculations remain stable and accurate.\n",
    "\n",
    "- Smoothness: Softmax with e generates a smooth probability distribution, which means that small changes in the input values lead to small changes in the output probabilities. This smoothness property is desirable in many machine learning and optimization scenarios.\n",
    "\n",
    "- Consistency with Statistics and Probability: The use of e in softmax is consistent with statistical and probability theory, where e often appears in various contexts. It ensures that softmax aligns with established principles in these fields.\n",
    "\n",
    "In summary, the choice of the natural exponential (e) in softmax has practical advantages, including probability interpretation, numerical stability, smoothness, and consistency with statistical and probability principles. While other numbers could theoretically be used, e has become the standard choice in machine learning and neural networks due to these advantages."
   ]
  },
  {
   "cell_type": "code",
   "execution_count": null,
   "id": "436c2b73",
   "metadata": {},
   "outputs": [],
   "source": []
  }
 ],
 "metadata": {
  "kernelspec": {
   "display_name": "Python 3",
   "language": "python",
   "name": "python3"
  },
  "language_info": {
   "codemirror_mode": {
    "name": "ipython",
    "version": 3
   },
   "file_extension": ".py",
   "mimetype": "text/x-python",
   "name": "python",
   "nbconvert_exporter": "python",
   "pygments_lexer": "ipython3",
   "version": "3.8.8"
  }
 },
 "nbformat": 4,
 "nbformat_minor": 5
}
