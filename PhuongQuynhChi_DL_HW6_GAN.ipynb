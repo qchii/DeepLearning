{
  "nbformat": 4,
  "nbformat_minor": 0,
  "metadata": {
    "colab": {
      "provenance": [],
      "gpuType": "T4"
    },
    "kernelspec": {
      "name": "python3",
      "display_name": "Python 3"
    },
    "language_info": {
      "name": "python"
    },
    "accelerator": "GPU"
  },
  "cells": [
    {
      "cell_type": "markdown",
      "source": [
        "## Dùng GAN và conditional-GAN để sinh ra ảnh fashion-MNIST\n"
      ],
      "metadata": {
        "id": "mCVkFLFCN2xx"
      }
    },
    {
      "cell_type": "code",
      "execution_count": 28,
      "metadata": {
        "id": "grqQb19fNw9U"
      },
      "outputs": [],
      "source": [
        "import torch\n",
        "import torch.nn as nn\n",
        "import torch.optim as optim\n",
        "import torchvision\n",
        "import torchvision.transforms as transforms\n",
        "from torchvision.utils import save_image\n",
        "from torch.utils.data import DataLoader\n",
        "import numpy as np"
      ]
    },
    {
      "cell_type": "markdown",
      "source": [
        "## GAN"
      ],
      "metadata": {
        "id": "TySl78kpEj5A"
      }
    },
    {
      "cell_type": "code",
      "source": [
        "\n",
        "\n",
        "# Kiểm tra sự sẵn có của GPU\n",
        "device = torch.device(\"cuda\" if torch.cuda.is_available() else \"cpu\")\n",
        "\n",
        "# Chuẩn bị dữ liệu và DataLoader\n",
        "transform = transforms.Compose([transforms.ToTensor(), transforms.Normalize((0.5,), (0.5,))])\n",
        "batch_size = 32\n",
        "\n",
        "train_dataset = torchvision.datasets.FashionMNIST(\n",
        "    root='./data',\n",
        "    train=True,\n",
        "    transform=transform,\n",
        "    download=True\n",
        ")\n",
        "\n",
        "train_loader = DataLoader(train_dataset, batch_size=batch_size, shuffle=True)\n",
        "\n",
        "# Định nghĩa kích thước của vector ngẫu nhiên (latent vector) và số lớp (số loại quần áo trong Fashion-MNIST)\n",
        "latent_dim = 100\n",
        "num_classes = 10\n"
      ],
      "metadata": {
        "id": "YVO7O8Zj6ckz"
      },
      "execution_count": 10,
      "outputs": []
    },
    {
      "cell_type": "code",
      "source": [
        "# Generator Model\n",
        "class Generator(nn.Module):\n",
        "    def __init__(self):\n",
        "        super(Generator, self).__init__()\n",
        "        self.fc = nn.Sequential(\n",
        "            nn.Linear(latent_dim + num_classes, 256),\n",
        "            nn.ReLU(),\n",
        "            nn.Linear(256, 512),\n",
        "            nn.ReLU(),\n",
        "            nn.Linear(512, 1024),\n",
        "            nn.ReLU(),\n",
        "            nn.Linear(1024, 784),\n",
        "            nn.Tanh()\n",
        "        )\n",
        "\n",
        "    def forward(self, z, labels):\n",
        "        x = torch.cat([z, labels], 1)\n",
        "        x = self.fc(x)\n",
        "        return x\n",
        "\n",
        "# Discriminator Model\n",
        "class Discriminator(nn.Module):\n",
        "    def __init__(self):\n",
        "        super(Discriminator, self).__init__()\n",
        "        self.fc = nn.Sequential(\n",
        "            nn.Linear(784 + num_classes, 1024),\n",
        "            nn.LeakyReLU(0.2),\n",
        "            nn.Linear(1024, 512),\n",
        "            nn.LeakyReLU(0.2),\n",
        "            nn.Linear(512, 256),\n",
        "            nn.LeakyReLU(0.2),\n",
        "            nn.Linear(256, 1),\n",
        "            nn.Sigmoid()\n",
        "        )\n",
        "\n",
        "    def forward(self, x, labels):\n",
        "        x = torch.cat([x, labels], 1)\n",
        "        x = self.fc(x)\n",
        "        return x\n",
        "\n",
        "# Tạo instances của Generator và Discriminator và chuyển chúng đến thiết bị (device)\n",
        "generator = Generator().to(device)\n",
        "discriminator = Discriminator().to(device)\n"
      ],
      "metadata": {
        "id": "Y6zTcYe46hPA"
      },
      "execution_count": 3,
      "outputs": []
    },
    {
      "cell_type": "code",
      "source": [
        "# Hàm mất mát cho Generator\n",
        "criterion_generator = nn.BCELoss()\n",
        "\n",
        "# Hàm mất mát cho Discriminator\n",
        "criterion_discriminator = nn.BCELoss()\n",
        "\n",
        "# Optimizers\n",
        "optimizer_generator = optim.Adam(generator.parameters(), lr=0.0002)\n",
        "optimizer_discriminator = optim.Adam(discriminator.parameters(), lr=0.0002)\n"
      ],
      "metadata": {
        "id": "pLs2cgXP6j24"
      },
      "execution_count": 4,
      "outputs": []
    },
    {
      "cell_type": "code",
      "source": [
        "def save_samples(generator, epoch, latent_dim, num_classes, num_samples=10):\n",
        "    z = torch.randn(num_samples, latent_dim).to(device)\n",
        "    labels = torch.randint(0, num_classes, (num_samples,), dtype=torch.long).to(device)\n",
        "    labels = one_hot_encode(labels, num_classes, device).to(device)\n",
        "    samples = generator(z, labels)\n",
        "    samples = samples.view(num_samples, 1, 28, 28)\n",
        "    samples = (samples + 1) / 2.0\n",
        "    save_image(samples, f\"gan_samples_epoch_{epoch}.png\", nrow=num_samples, normalize=True)\n",
        "\n",
        "def one_hot_encode(labels, num_classes, device):\n",
        "    # Move labels tensor to the same device as one_hot\n",
        "    labels = labels.to(device)\n",
        "\n",
        "    # Reshape labels to match the size of one_hot\n",
        "    labels = labels.view(-1, 1)\n",
        "\n",
        "    # Create a one-hot encoding of labels directly on the device\n",
        "    one_hot = torch.zeros(labels.size(0), num_classes, device=device)\n",
        "    one_hot.scatter_(1, labels, 1)\n",
        "    return one_hot\n",
        "\n",
        "\n"
      ],
      "metadata": {
        "id": "vM583w9q6qMM"
      },
      "execution_count": 5,
      "outputs": []
    },
    {
      "cell_type": "code",
      "source": [
        "\n",
        "\n",
        "num_epochs = 10\n",
        "for epoch in range(num_epochs):\n",
        "    for batch_idx, (real_images, real_labels) in enumerate(train_loader):\n",
        "        real_images = real_images.view(-1, 784).to(device)\n",
        "        real_labels = one_hot_encode(real_labels, num_classes, device)  # Remove the .to(device)\n",
        "\n",
        "        # Tạo tensors ones và zeros để làm ground truth cho Discriminator\n",
        "        ones = torch.ones(batch_size, 1).to(device)\n",
        "        zeros = torch.zeros(batch_size, 1).to(device)\n",
        "\n",
        "        # Huấn luyện Discriminator\n",
        "        optimizer_discriminator.zero_grad()\n",
        "        outputs = discriminator(real_images, real_labels)\n",
        "        loss_real = criterion_discriminator(outputs, ones)\n",
        "\n",
        "        z = torch.randn(batch_size, latent_dim).to(device)\n",
        "        fake_labels = torch.randint(0, num_classes, (batch_size,), dtype=torch.long).to(device)\n",
        "        fake_labels = one_hot_encode(fake_labels, num_classes, device)  # Remove the .to(device)\n",
        "        fake_images = generator(z, fake_labels)\n",
        "        outputs = discriminator(fake_images, fake_labels)\n",
        "        loss_fake = criterion_discriminator(outputs, zeros)\n",
        "\n",
        "        loss_discriminator = loss_real + loss_fake\n",
        "        loss_discriminator.backward()\n",
        "        optimizer_discriminator.step()\n",
        "\n",
        "        # Huấn luyện Generator\n",
        "        optimizer_generator.zero_grad()\n",
        "        z = torch.randn(batch_size, latent_dim).to(device)\n",
        "        fake_labels = torch.randint(0, num_classes, (batch_size,), dtype=torch.long).to(device)\n",
        "        fake_labels = one_hot_encode(fake_labels, num_classes, device)  # Remove the .to(device)\n",
        "        fake_images = generator(z, fake_labels)\n",
        "        outputs = discriminator(fake_images, fake_labels)\n",
        "        loss_generator = criterion_generator(outputs, ones)\n",
        "        loss_generator.backward()\n",
        "        optimizer_generator.step()\n",
        "\n",
        "    if (epoch + 1) % 10 == 0:\n",
        "        print(f\"Epoch [{epoch + 1}/{num_epochs}], Loss D: {loss_discriminator.item()}, Loss G: {loss_generator.item()}\")\n",
        "\n",
        "    if (epoch + 1) % 10 == 0:\n",
        "        save_samples(generator, epoch + 1, latent_dim, num_classes)\n"
      ],
      "metadata": {
        "colab": {
          "base_uri": "https://localhost:8080/"
        },
        "id": "d6skB6Dn6mT3",
        "outputId": "d643b285-800d-4cc6-81a2-98b818364369"
      },
      "execution_count": 10,
      "outputs": [
        {
          "output_type": "stream",
          "name": "stdout",
          "text": [
            "Epoch [10/10], Loss D: 0.78846275806427, Loss G: 2.63523268699646\n"
          ]
        }
      ]
    },
    {
      "cell_type": "code",
      "source": [
        "# Lưu các mẫu mỗi một số epochs\n",
        "save_samples(generator, num_epochs, latent_dim, num_classes)"
      ],
      "metadata": {
        "id": "4T4otqs6KtB9"
      },
      "execution_count": 13,
      "outputs": []
    },
    {
      "cell_type": "code",
      "source": [
        "from IPython.display import Image\n",
        "\n",
        "# Hiển thị ảnh đã tạo từ GAN\n",
        "Image(\"gan_samples_epoch_10.png\")\n"
      ],
      "metadata": {
        "colab": {
          "base_uri": "https://localhost:8080/",
          "height": 49
        },
        "id": "eZmm0igY6s2I",
        "outputId": "a7cbab08-3069-4e8f-ec82-d101c8bc01dc"
      },
      "execution_count": 14,
      "outputs": [
        {
          "output_type": "execute_result",
          "data": {
            "image/png": "[encoded data removed]",
            "text/plain": [
              "<IPython.core.display.Image object>"
            ]
          },
          "metadata": {},
          "execution_count": 14
        }
      ]
    },
    {
      "cell_type": "markdown",
      "source": [
        "## c-GAN"
      ],
      "metadata": {
        "id": "-1a32agJET4Z"
      }
    },
    {
      "cell_type": "code",
      "source": [
        "# Generator Model\n",
        "class Generator(nn.Module):\n",
        "    def __init__(self):\n",
        "        super(Generator, self).__init__()\n",
        "        self.embed = nn.Embedding(num_classes, num_classes)\n",
        "        self.fc = nn.Sequential(\n",
        "            nn.Linear(latent_dim + num_classes, 256),\n",
        "            nn.ReLU(),\n",
        "            nn.Linear(256, 512),\n",
        "            nn.ReLU(),\n",
        "            nn.Linear(512, 1024),\n",
        "            nn.ReLU(),\n",
        "            nn.Linear(1024, 784),\n",
        "            nn.Tanh()\n",
        "        )\n",
        "\n",
        "    def forward(self, z, labels):\n",
        "        embedded_labels = self.embed(labels)\n",
        "        x = torch.cat([z, embedded_labels], 1)\n",
        "        x = self.fc(x)\n",
        "        return x\n",
        "\n",
        "# Discriminator Model\n",
        "class Discriminator(nn.Module):\n",
        "    def __init__(self):\n",
        "        super(Discriminator, self).__init__()\n",
        "        self.embed = nn.Embedding(num_classes, num_classes)\n",
        "        self.fc = nn.Sequential(\n",
        "            nn.Linear(784 + num_classes, 1024),\n",
        "            nn.LeakyReLU(0.2),\n",
        "            nn.Linear(1024, 512),\n",
        "            nn.LeakyReLU(0.2),\n",
        "            nn.Linear(512, 256),\n",
        "            nn.LeakyReLU(0.2),\n",
        "            nn.Linear(256, 1),\n",
        "            nn.Sigmoid()\n",
        "        )\n",
        "\n",
        "    def forward(self, x, labels):\n",
        "        embedded_labels = self.embed(labels)\n",
        "        x = torch.cat([x, embedded_labels], 1)\n",
        "        x = self.fc(x)\n",
        "        return x\n",
        "\n",
        "# Tạo instances của Generator và Discriminator và chuyển chúng đến thiết bị (device)\n",
        "generator = Generator().to(device)\n",
        "discriminator = Discriminator().to(device)\n",
        "\n",
        "# Hàm mất mát cho Generator\n",
        "criterion_generator = nn.BCELoss()\n",
        "\n",
        "# Hàm mất mát cho Discriminator\n",
        "criterion_discriminator = nn.BCELoss()\n",
        "\n",
        "# Optimizers\n",
        "optimizer_generator = optim.Adam(generator.parameters(), lr=0.0002)\n",
        "optimizer_discriminator = optim.Adam(discriminator.parameters(), lr=0.0002)\n",
        "\n",
        "def save_samples(generator, epoch, latent_dim, num_classes, num_samples=10):\n",
        "    z = torch.randn(num_samples, latent_dim).to(device)\n",
        "    labels = torch.randint(0, num_classes, (num_samples,), dtype=torch.long).to(device)\n",
        "    samples = generator(z, labels)\n",
        "    samples = samples.view(num_samples, 1, 28, 28)\n",
        "    samples = (samples + 1) / 2.0\n",
        "    save_image(samples, f\"cgan_samples_epoch_{epoch}.png\", nrow=num_samples, normalize=True)\n",
        "\n",
        "# Lưu các mẫu mỗi một số epochs\n",
        "num_epochs = 10\n",
        "for epoch in range(num_epochs):\n",
        "    for batch_idx, (real_images, real_labels) in enumerate(train_loader):\n",
        "        real_images = real_images.view(-1, 784).to(device)\n",
        "        real_labels = real_labels.to(device)\n",
        "\n",
        "        # Tạo tensors ones và zeros để làm ground truth cho Discriminator\n",
        "        ones = torch.ones(batch_size, 1).to(device)\n",
        "        zeros = torch.zeros(batch_size, 1).to(device)\n",
        "\n",
        "        # Huấn luyện Discriminator\n",
        "        optimizer_discriminator.zero_grad()\n",
        "        outputs = discriminator(real_images, real_labels)\n",
        "        loss_real = criterion_discriminator(outputs, ones)\n",
        "\n",
        "        z = torch.randn(batch_size, latent_dim).to(device)\n",
        "        fake_labels = torch.randint(0, num_classes, (batch_size,), dtype=torch.long).to(device)\n",
        "        fake_images = generator(z, fake_labels)\n",
        "        outputs = discriminator(fake_images, fake_labels)\n",
        "        loss_fake = criterion_discriminator(outputs, zeros)\n",
        "\n",
        "        loss_discriminator = loss_real + loss_fake\n",
        "        loss_discriminator.backward()\n",
        "        optimizer_discriminator.step()\n",
        "\n",
        "        # Huấn luyện Generator\n",
        "        optimizer_generator.zero_grad()\n",
        "        z = torch.randn(batch_size, latent_dim).to(device)\n",
        "        fake_labels = torch.randint(0, num_classes, (batch_size,), dtype=torch.long).to(device)\n",
        "        fake_images = generator(z, fake_labels)\n",
        "        outputs = discriminator(fake_images, fake_labels)\n",
        "        loss_generator = criterion_generator(outputs, ones)\n",
        "        loss_generator.backward()\n",
        "        optimizer_generator.step()\n",
        "\n",
        "    if (epoch + 1) % 10 == 0:\n",
        "        print(f\"Epoch [{epoch + 1}/{num_epochs}], Loss D: {loss_discriminator.item()}, Loss G: {loss_generator.item()}\")\n",
        "\n",
        "    if (epoch + 1) % 10 == 0:\n",
        "        save_samples(generator, epoch + 1, latent_dim, num_classes)\n",
        "\n",
        "# Lưu các mẫu mỗi một số epochs\n",
        "save_samples(generator, num_epochs, latent_dim, num_classes)"
      ],
      "metadata": {
        "colab": {
          "base_uri": "https://localhost:8080/"
        },
        "id": "7sDt_I9xCZVT",
        "outputId": "d79366c4-4e70-44da-982a-11dec1405c1e"
      },
      "execution_count": 24,
      "outputs": [
        {
          "output_type": "stream",
          "name": "stdout",
          "text": [
            "Epoch [10/10], Loss D: 0.7240902185440063, Loss G: 2.4025473594665527\n"
          ]
        }
      ]
    },
    {
      "cell_type": "code",
      "source": [
        "\n",
        "Image(\"cgan_samples_epoch_10.png\")"
      ],
      "metadata": {
        "colab": {
          "base_uri": "https://localhost:8080/",
          "height": 49
        },
        "id": "E-yMVtKIDq6L",
        "outputId": "eca3906d-6ce3-4ff7-8f0c-0ba62992c82f"
      },
      "execution_count": 27,
      "outputs": [
        {
          "output_type": "execute_result",
          "data": {
            "image/png": "[encoded data removed]",
            "text/plain": [
              "<IPython.core.display.Image object>"
            ]
          },
          "metadata": {},
          "execution_count": 27
        }
      ]
    }
  ]
}